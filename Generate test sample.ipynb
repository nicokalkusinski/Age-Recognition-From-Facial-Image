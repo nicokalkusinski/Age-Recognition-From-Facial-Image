{
 "cells": [
  {
   "cell_type": "code",
   "execution_count": 1,
   "id": "81b3756d",
   "metadata": {},
   "outputs": [],
   "source": [
    "#load the test image names to the list\n",
    "import os\n",
    "\n",
    "# Directory path where the subfolders with images are stored\n",
    "directory = \"../age_prediction_2050/20-50/test\"\n",
    "\n",
    "# Create an empty list to store the names of the image files\n",
    "image_names = []\n",
    "\n",
    "# Function to recursively traverse through subfolders and load image names\n",
    "def traverse_subfolders(folder_path):\n",
    "    for filename in os.listdir(folder_path):\n",
    "        file_path = os.path.join(folder_path, filename)\n",
    "        if os.path.isdir(file_path):\n",
    "            # If the file is a subfolder, recursively call the function on the subfolder\n",
    "            traverse_subfolders(file_path)\n",
    "        elif filename.endswith((\".jpg\", \".jpeg\", \".png\")):\n",
    "            # If the file is an image file, append its name to the list of image names\n",
    "            image_names.append(filename)\n",
    "\n",
    "# Call the function on the main directory to start the traversal\n",
    "traverse_subfolders(directory)"
   ]
  },
  {
   "cell_type": "code",
   "execution_count": 2,
   "id": "42381ab2",
   "metadata": {},
   "outputs": [
    {
     "data": {
      "text/plain": [
       "['20_1.jpg',\n",
       " '20_10.jpg',\n",
       " '20_100.jpg',\n",
       " '20_101.jpg',\n",
       " '20_102.jpg',\n",
       " '20_103.jpg',\n",
       " '20_104.jpg',\n",
       " '20_105.jpg',\n",
       " '20_106.jpg',\n",
       " '20_107.jpg']"
      ]
     },
     "execution_count": 2,
     "metadata": {},
     "output_type": "execute_result"
    }
   ],
   "source": [
    "#display 10 last image names\n",
    "image_names[:10]"
   ]
  },
  {
   "cell_type": "code",
   "execution_count": 3,
   "id": "0b6bb67f",
   "metadata": {},
   "outputs": [
    {
     "data": {
      "text/plain": [
       "7008"
      ]
     },
     "execution_count": 3,
     "metadata": {},
     "output_type": "execute_result"
    }
   ],
   "source": [
    "len(image_names)"
   ]
  },
  {
   "cell_type": "code",
   "execution_count": 11,
   "id": "c7626d3c",
   "metadata": {},
   "outputs": [
    {
     "data": {
      "text/plain": [
       "['35_15.jpg',\n",
       " '30_76.jpg',\n",
       " '35_23.jpg',\n",
       " '45_185.jpg',\n",
       " '29_38.jpg',\n",
       " '37_131.jpg',\n",
       " '24_89.jpg',\n",
       " '23_53.jpg',\n",
       " '33_38.jpg']"
      ]
     },
     "execution_count": 11,
     "metadata": {},
     "output_type": "execute_result"
    }
   ],
   "source": [
    "import random\n",
    "grading_sample = random.sample(image_names, 1000)\n",
    "# grading_sample = image_names\n",
    "with open(\"grading_sample.txt\", \"a\") as file:\n",
    "    _ = \"\"\n",
    "    for entry in grading_sample: _ += f\"{entry},\"\n",
    "    file.write(_)\n",
    "grading_sample[0:9]"
   ]
  },
  {
   "cell_type": "code",
   "execution_count": 12,
   "id": "46c57c8a",
   "metadata": {},
   "outputs": [
    {
     "data": {
      "text/plain": [
       "1000"
      ]
     },
     "execution_count": 12,
     "metadata": {},
     "output_type": "execute_result"
    }
   ],
   "source": [
    "len(grading_sample)"
   ]
  },
  {
   "cell_type": "code",
   "execution_count": null,
   "id": "b65d9748",
   "metadata": {},
   "outputs": [],
   "source": []
  }
 ],
 "metadata": {
  "kernelspec": {
   "display_name": "Python 3 (ipykernel)",
   "language": "python",
   "name": "python3"
  },
  "language_info": {
   "codemirror_mode": {
    "name": "ipython",
    "version": 3
   },
   "file_extension": ".py",
   "mimetype": "text/x-python",
   "name": "python",
   "nbconvert_exporter": "python",
   "pygments_lexer": "ipython3",
   "version": "3.10.6"
  }
 },
 "nbformat": 4,
 "nbformat_minor": 5
}
