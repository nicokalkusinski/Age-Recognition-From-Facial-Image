{
 "cells": [
  {
   "cell_type": "code",
   "execution_count": 16,
   "id": "7abdbe91",
   "metadata": {},
   "outputs": [],
   "source": [
    "#import libraries\n",
    "import pandas as pd\n",
    "import ktrain as kt\n",
    "from ktrain import vision as vis"
   ]
  },
  {
   "cell_type": "code",
   "execution_count": 17,
   "id": "068c0f2e",
   "metadata": {},
   "outputs": [],
   "source": [
    "#load model and preproc\n",
    "model = kt.load_predictor('Model_DL_ktrain_checkpoints/').model\n",
    "preproc = kt.load_predictor('Model_DL_ktrain_checkpoints/').preproc"
   ]
  },
  {
   "cell_type": "code",
   "execution_count": 18,
   "id": "d6750ee8",
   "metadata": {},
   "outputs": [],
   "source": [
    "model.load_weights(f'Model_DL_ktrain_checkpoints/weights/weights-38.hdf5')"
   ]
  },
  {
   "cell_type": "code",
   "execution_count": 19,
   "id": "3685afec",
   "metadata": {},
   "outputs": [],
   "source": [
    "#setting up the predictior object\n",
    "predictor = kt.get_predictor(model, preproc)"
   ]
  },
  {
   "cell_type": "code",
   "execution_count": 20,
   "id": "8f626528",
   "metadata": {},
   "outputs": [],
   "source": [
    "def predict_age(filepath, actual_age):\n",
    "    path = f\"{filepath}\"\n",
    "    predicted_age = int(predictor.predict_filename(path)[0])\n",
    "    \n",
    "    diff = abs(actual_age-predicted_age)\n",
    "\n",
    "    return [actual_age, predicted_age, diff, (diff/actual_age)*100]"
   ]
  },
  {
   "cell_type": "code",
   "execution_count": 21,
   "id": "87c2b235",
   "metadata": {},
   "outputs": [
    {
     "name": "stdout",
     "output_type": "stream",
     "text": [
      "1/1 [==============================] - 1s 872ms/step\n",
      "Actual age: 24\n",
      "Predicted age: 31\n",
      "Difference: 7, 29.17%\n"
     ]
    }
   ],
   "source": [
    "prediction = predict_age(\"../age_prediction_2050/20-50/test/24/24_8.jpg\", 24)\n",
    "print(f\"Actual age: {prediction[0]}\\nPredicted age: {prediction[1]}\\nDifference: {prediction[2]}, {prediction[3]:.2f}%\")"
   ]
  },
  {
   "cell_type": "code",
   "execution_count": null,
   "id": "7b389c70",
   "metadata": {},
   "outputs": [],
   "source": []
  }
 ],
 "metadata": {
  "kernelspec": {
   "display_name": "Python 3 (ipykernel)",
   "language": "python",
   "name": "python3"
  },
  "language_info": {
   "codemirror_mode": {
    "name": "ipython",
    "version": 3
   },
   "file_extension": ".py",
   "mimetype": "text/x-python",
   "name": "python",
   "nbconvert_exporter": "python",
   "pygments_lexer": "ipython3",
   "version": "3.10.6"
  }
 },
 "nbformat": 4,
 "nbformat_minor": 5
}
